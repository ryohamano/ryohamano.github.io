{
 "cells": [
  {
   "cell_type": "markdown",
   "metadata": {
    "deletable": true,
    "editable": true
   },
   "source": [
    "# Talks markdown generator for academicpages\n",
    "\n",
    "Takes a TSV of talks with metadata and converts them for use with [academicpages.github.io](academicpages.github.io). This is an interactive Jupyter notebook ([see more info here](http://jupyter-notebook-beginner-guide.readthedocs.io/en/latest/what_is_jupyter.html)). The core python code is also in `talks.py`. Run either from the `markdown_generator` folder after replacing `talks.txt` with one containing your data.\n",
    "\n",
    "TODO: Make this work with BibTex and other databases, rather than Stuart's non-standard TSV format and citation style."
   ]
  },
  {
   "cell_type": "code",
   "execution_count": 57,
   "metadata": {
    "collapsed": false,
    "deletable": true,
    "editable": true
   },
   "outputs": [],
   "source": [
    "import pandas as pd\n",
    "import os"
   ]
  },
  {
   "cell_type": "markdown",
   "metadata": {},
   "source": [
    "## Data format\n",
    "\n",
    "The TSV needs to have the following columns: title, category, url_slug, venue, date, location, talk_url, description, with a header at the top. Many of these fields can be blank, but the columns must be in the TSV.\n",
    "\n",
    "- Fields that cannot be blank: `title`, `url_slug`, `date`. All else can be blank. `category` defaults to \"Talk\" \n",
    "- `date` must be formatted as YYYY-MM-DD.\n",
    "- `url_slug` will be the descriptive part of the .md file and the permalink URL for the page about the paper. \n",
    "    - The .md file will be `YYYY-MM-DD-[url_slug].md` and the permalink will be `https://[yourdomain]/talk_md_files/YYYY-MM-DD-[url_slug]`\n",
    "    - The combination of `url_slug` and `date` must be unique, as it will be the basis for your filenames\n",
    "\n",
    "This is how the raw file looks (it doesn't look pretty, use a spreadsheet or other program to edit and create)."
   ]
  },
  {
   "cell_type": "code",
   "execution_count": 58,
   "metadata": {
    "collapsed": false
   },
   "outputs": [
    {
     "name": "stderr",
     "output_type": "stream",
     "text": [
      "'cat' is not recognized as an internal or external command,\n",
      "operable program or batch file.\n"
     ]
    }
   ],
   "source": [
    "!cat talks.tsv"
   ]
  },
  {
   "cell_type": "markdown",
   "metadata": {},
   "source": [
    "## Import TSV\n",
    "\n",
    "Pandas makes this easy with the read_csv function. We are using a TSV, so we specify the separator as a tab, or `\\t`.\n",
    "\n",
    "I found it important to put this data in a tab-separated values format, because there are a lot of commas in this kind of data and comma-separated values can get messed up. However, you can modify the import statement, as pandas also has read_excel(), read_json(), and others."
   ]
  },
  {
   "cell_type": "code",
   "execution_count": null,
   "metadata": {},
   "outputs": [],
   "source": []
  },
  {
   "cell_type": "code",
   "execution_count": 59,
   "metadata": {
    "collapsed": false,
    "deletable": true,
    "editable": true
   },
   "outputs": [
    {
     "data": {
      "text/html": [
       "<div>\n",
       "<style scoped>\n",
       "    .dataframe tbody tr th:only-of-type {\n",
       "        vertical-align: middle;\n",
       "    }\n",
       "\n",
       "    .dataframe tbody tr th {\n",
       "        vertical-align: top;\n",
       "    }\n",
       "\n",
       "    .dataframe thead th {\n",
       "        text-align: right;\n",
       "    }\n",
       "</style>\n",
       "<table border=\"1\" class=\"dataframe\">\n",
       "  <thead>\n",
       "    <tr style=\"text-align: right;\">\n",
       "      <th></th>\n",
       "      <th>title</th>\n",
       "      <th>category</th>\n",
       "      <th>url_slug</th>\n",
       "      <th>venue</th>\n",
       "      <th>date</th>\n",
       "      <th>location</th>\n",
       "      <th>talk_url</th>\n",
       "      <th>description</th>\n",
       "    </tr>\n",
       "  </thead>\n",
       "  <tbody>\n",
       "    <tr>\n",
       "      <th>0</th>\n",
       "      <td>Theoretical Study of the Photo-Induced Magneti...</td>\n",
       "      <td>poster</td>\n",
       "      <td>JKT22</td>\n",
       "      <td>The 22nd Japan-Korea-Taiwan Symposium on Stron...</td>\n",
       "      <td>March 15 2024</td>\n",
       "      <td>Kagoshima University, Japan</td>\n",
       "      <td>https://okuda812.wixsite.com/jkt22</td>\n",
       "      <td>NaN</td>\n",
       "    </tr>\n",
       "    <tr>\n",
       "      <th>1</th>\n",
       "      <td>Theoretical Study of the Photo-Induced Magneti...</td>\n",
       "      <td>poster</td>\n",
       "      <td>Tanabe-Sugano70</td>\n",
       "      <td>70 years of the Tanabe-Sugano diagrams,</td>\n",
       "      <td>September 10 2024</td>\n",
       "      <td>Shinjuku, Japan</td>\n",
       "      <td>https://sites.google.com/view/70years-of-tanab...</td>\n",
       "      <td>NaN</td>\n",
       "    </tr>\n",
       "    <tr>\n",
       "      <th>2</th>\n",
       "      <td>立方格子上の近藤格子模型における光誘起磁気転移の理論</td>\n",
       "      <td>oral</td>\n",
       "      <td>JPS2024fall</td>\n",
       "      <td>日本物理学会 第79回年次大会（2024年）</td>\n",
       "      <td>September 16 2024</td>\n",
       "      <td>Hokkaido University, Japan</td>\n",
       "      <td>https://onsite.gakkai-web.net/jps/jps_search/2...</td>\n",
       "      <td>NaN</td>\n",
       "    </tr>\n",
       "    <tr>\n",
       "      <th>3</th>\n",
       "      <td>3次元近藤格子模型における光誘起磁気相転移の微視的機構の理論</td>\n",
       "      <td>oral</td>\n",
       "      <td>JPS2025spring</td>\n",
       "      <td>日本物理学会 2025年春季大会</td>\n",
       "      <td>March 18 2025</td>\n",
       "      <td>Online</td>\n",
       "      <td>https://onsite.gakkai-web.net/jps/jps_search/2...</td>\n",
       "      <td>NaN</td>\n",
       "    </tr>\n",
       "    <tr>\n",
       "      <th>4</th>\n",
       "      <td>立方格子上の近藤格子模型における光誘起磁気転移の理論</td>\n",
       "      <td>poster</td>\n",
       "      <td>summerschool2025</td>\n",
       "      <td>第70回物性若手夏の学校</td>\n",
       "      <td>August 2 2025</td>\n",
       "      <td>Shiga, Japan</td>\n",
       "      <td>https://cmpss.jp/</td>\n",
       "      <td>NaN</td>\n",
       "    </tr>\n",
       "  </tbody>\n",
       "</table>\n",
       "</div>"
      ],
      "text/plain": [
       "                                               title category  \\\n",
       "0  Theoretical Study of the Photo-Induced Magneti...   poster   \n",
       "1  Theoretical Study of the Photo-Induced Magneti...   poster   \n",
       "2                         立方格子上の近藤格子模型における光誘起磁気転移の理論     oral   \n",
       "3                     3次元近藤格子模型における光誘起磁気相転移の微視的機構の理論     oral   \n",
       "4                         立方格子上の近藤格子模型における光誘起磁気転移の理論   poster   \n",
       "\n",
       "           url_slug                                              venue  \\\n",
       "0             JKT22  The 22nd Japan-Korea-Taiwan Symposium on Stron...   \n",
       "1   Tanabe-Sugano70            70 years of the Tanabe-Sugano diagrams,   \n",
       "2       JPS2024fall                             日本物理学会 第79回年次大会（2024年）   \n",
       "3     JPS2025spring                                   日本物理学会 2025年春季大会   \n",
       "4  summerschool2025                                       第70回物性若手夏の学校   \n",
       "\n",
       "                date                     location  \\\n",
       "0      March 15 2024  Kagoshima University, Japan   \n",
       "1  September 10 2024              Shinjuku, Japan   \n",
       "2  September 16 2024   Hokkaido University, Japan   \n",
       "3      March 18 2025                       Online   \n",
       "4      August 2 2025                 Shiga, Japan   \n",
       "\n",
       "                                            talk_url  description  \n",
       "0                 https://okuda812.wixsite.com/jkt22          NaN  \n",
       "1  https://sites.google.com/view/70years-of-tanab...          NaN  \n",
       "2  https://onsite.gakkai-web.net/jps/jps_search/2...          NaN  \n",
       "3  https://onsite.gakkai-web.net/jps/jps_search/2...          NaN  \n",
       "4                                  https://cmpss.jp/          NaN  "
      ]
     },
     "execution_count": 59,
     "metadata": {},
     "output_type": "execute_result"
    }
   ],
   "source": [
    "talks = pd.read_csv(\"talks.txt\", sep=\"\\t\", header=0, encoding = \"cp932\")\n",
    "talks"
   ]
  },
  {
   "cell_type": "markdown",
   "metadata": {},
   "source": [
    "## Escape special characters\n",
    "\n",
    "YAML is very picky about how it takes a valid string, so we are replacing single and double quotes (and ampersands) with their HTML encoded equivilents. This makes them look not so readable in raw format, but they are parsed and rendered nicely."
   ]
  },
  {
   "cell_type": "code",
   "execution_count": 60,
   "metadata": {
    "collapsed": false,
    "deletable": true,
    "editable": true
   },
   "outputs": [],
   "source": [
    "html_escape_table = {\n",
    "    \"&\": \"&amp;\",\n",
    "    '\"': \"&quot;\",\n",
    "    \"'\": \"&apos;\"\n",
    "    }\n",
    "\n",
    "def html_escape(text):\n",
    "    if type(text) is str:\n",
    "        return \"\".join(html_escape_table.get(c,c) for c in text)\n",
    "    else:\n",
    "        return \"False\""
   ]
  },
  {
   "cell_type": "markdown",
   "metadata": {},
   "source": [
    "## Creating the markdown files\n",
    "\n",
    "This is where the heavy lifting is done. This loops through all the rows in the TSV dataframe, then starts to concatentate a big string (```md```) that contains the markdown for each category. It does the YAML metadata first, then does the description for the individual page."
   ]
  },
  {
   "cell_type": "code",
   "execution_count": 61,
   "metadata": {
    "collapsed": false,
    "deletable": true,
    "editable": true
   },
   "outputs": [],
   "source": [
    "loc_dict = {}\n",
    "\n",
    "for row, item in talks.iterrows():\n",
    "    \n",
    "    md_filename = item.url_slug + \".md\"\n",
    "    html_filename = item.url_slug \n",
    "    year = item.date[:4]\n",
    "    \n",
    "    md = \"---\\ntitle: \\\"\"   + item.title + '\"\\n'\n",
    "    md += \"collection: talk_md_files\" + \"\\n\"\n",
    "    \n",
    "    if len(str(item.category)) > 3:\n",
    "        md += 'category: \"' + item.category + '\"\\n'\n",
    "    else:\n",
    "        md += 'category: \"Talk\"\\n'\n",
    "    \n",
    "    md += \"permalink: /talk_md_files/\" + html_filename + \"\\n\"\n",
    "    \n",
    "    if len(str(item.venue)) > 3:\n",
    "        md += 'venue: \"' + item.venue + '\"\\n'\n",
    "        \n",
    "    if len(str(item.location)) > 3:\n",
    "        md += \"date: \" + str(item.date) + \"\\n\"\n",
    "    \n",
    "    if len(str(item.location)) > 3:\n",
    "        md += 'location: \"' + str(item.location) + '\"\\n'\n",
    "           \n",
    "    md += \"---\\n\"\n",
    "    \n",
    "    \n",
    "    if len(str(item.talk_url)) > 3:\n",
    "        md += \"\\n[More information here](\" + item.talk_url + \")\\n\" \n",
    "        \n",
    "    \n",
    "    if len(str(item.description)) > 3:\n",
    "        md += \"\\n\" + html_escape(item.description) + \"\\n\"\n",
    "        \n",
    "        \n",
    "    md_filename = os.path.basename(md_filename)\n",
    "    #print(md)\n",
    "    \n",
    "    with open(\"../_talk_md_files/\" + md_filename, 'w') as f:\n",
    "        f.write(md)"
   ]
  },
  {
   "cell_type": "markdown",
   "metadata": {},
   "source": [
    "These files are in the talks directory, one directory below where we're working from."
   ]
  },
  {
   "cell_type": "code",
   "execution_count": 62,
   "metadata": {
    "collapsed": false,
    "deletable": true,
    "editable": true
   },
   "outputs": [
    {
     "name": "stderr",
     "output_type": "stream",
     "text": [
      "'ls' is not recognized as an internal or external command,\n",
      "operable program or batch file.\n"
     ]
    }
   ],
   "source": [
    "!ls ../_talk_md_files"
   ]
  },
  {
   "cell_type": "code",
   "execution_count": 63,
   "metadata": {
    "collapsed": false,
    "deletable": true,
    "editable": true
   },
   "outputs": [
    {
     "name": "stderr",
     "output_type": "stream",
     "text": [
      "'cat' is not recognized as an internal or external command,\n",
      "operable program or batch file.\n"
     ]
    }
   ],
   "source": [
    "!cat ../_talk_md_files/2013-03-01-tutorial-1.md"
   ]
  }
 ],
 "metadata": {
  "kernelspec": {
   "display_name": "Python 3",
   "language": "python",
   "name": "python3"
  },
  "language_info": {
   "codemirror_mode": {
    "name": "ipython",
    "version": 3
   },
   "file_extension": ".py",
   "mimetype": "text/x-python",
   "name": "python",
   "nbconvert_exporter": "python",
   "pygments_lexer": "ipython3",
   "version": "3.11.4"
  }
 },
 "nbformat": 4,
 "nbformat_minor": 0
}
